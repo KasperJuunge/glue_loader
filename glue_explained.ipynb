{
 "cells": [
  {
   "cell_type": "code",
   "execution_count": 2,
   "metadata": {},
   "outputs": [],
   "source": [
    "from main import GLUELoader"
   ]
  },
  {
   "cell_type": "code",
   "execution_count": 7,
   "metadata": {},
   "outputs": [],
   "source": [
    "## init GLUELoader\n",
    "glue_loader = GLUELoader()"
   ]
  },
  {
   "cell_type": "markdown",
   "metadata": {},
   "source": [
    "# ax\n",
    "\n",
    "A manually-curated evaluation dataset for fine-grained analysis of system performance on a broad range of linguistic phenomena. This dataset evaluates sentence understanding through Natural Language Inference (NLI) problems. Use a model trained on MulitNLI to produce predictions for this dataset."
   ]
  },
  {
   "cell_type": "code",
   "execution_count": 18,
   "metadata": {},
   "outputs": [
    {
     "name": "stderr",
     "output_type": "stream",
     "text": [
      "Reusing dataset glue (/home/juunge/.cache/huggingface/datasets/glue/ax/1.0.0/dacbe3125aa31d7f70367a07a8a9e72a5a0bfeb5fc42e75c9db75b96da6053ad)\n",
      "100%|██████████| 1/1 [00:00<00:00, 742.75it/s]\n"
     ]
    },
    {
     "data": {
      "text/html": [
       "<div>\n",
       "<style scoped>\n",
       "    .dataframe tbody tr th:only-of-type {\n",
       "        vertical-align: middle;\n",
       "    }\n",
       "\n",
       "    .dataframe tbody tr th {\n",
       "        vertical-align: top;\n",
       "    }\n",
       "\n",
       "    .dataframe thead th {\n",
       "        text-align: right;\n",
       "    }\n",
       "</style>\n",
       "<table border=\"1\" class=\"dataframe\">\n",
       "  <thead>\n",
       "    <tr style=\"text-align: right;\">\n",
       "      <th></th>\n",
       "      <th>premise</th>\n",
       "      <th>hypothesis</th>\n",
       "      <th>label</th>\n",
       "      <th>idx</th>\n",
       "    </tr>\n",
       "  </thead>\n",
       "  <tbody>\n",
       "    <tr>\n",
       "      <th>39</th>\n",
       "      <td>Falcon Heavy is the smallest rocket since NASA...</td>\n",
       "      <td>Falcon Heavy is the largest rocket since NASA'...</td>\n",
       "      <td>-1</td>\n",
       "      <td>39</td>\n",
       "    </tr>\n",
       "    <tr>\n",
       "      <th>1019</th>\n",
       "      <td>The first experience I had interacting with an...</td>\n",
       "      <td>The first pleasurable experience I had interac...</td>\n",
       "      <td>-1</td>\n",
       "      <td>1019</td>\n",
       "    </tr>\n",
       "    <tr>\n",
       "      <th>438</th>\n",
       "      <td>Though the power grab has earned Xi comparison...</td>\n",
       "      <td>Though the power grab has earned Xi comparison...</td>\n",
       "      <td>-1</td>\n",
       "      <td>438</td>\n",
       "    </tr>\n",
       "    <tr>\n",
       "      <th>376</th>\n",
       "      <td>Everyone has a set of principles to live by.</td>\n",
       "      <td>No one has a set of principles to live by.</td>\n",
       "      <td>-1</td>\n",
       "      <td>376</td>\n",
       "    </tr>\n",
       "    <tr>\n",
       "      <th>292</th>\n",
       "      <td>The sides came to an agreement after their mee...</td>\n",
       "      <td>The sides came to an agreement after their mee...</td>\n",
       "      <td>-1</td>\n",
       "      <td>292</td>\n",
       "    </tr>\n",
       "  </tbody>\n",
       "</table>\n",
       "</div>"
      ],
      "text/plain": [
       "                                                premise  \\\n",
       "39    Falcon Heavy is the smallest rocket since NASA...   \n",
       "1019  The first experience I had interacting with an...   \n",
       "438   Though the power grab has earned Xi comparison...   \n",
       "376        Everyone has a set of principles to live by.   \n",
       "292   The sides came to an agreement after their mee...   \n",
       "\n",
       "                                             hypothesis  label   idx  \n",
       "39    Falcon Heavy is the largest rocket since NASA'...     -1    39  \n",
       "1019  The first pleasurable experience I had interac...     -1  1019  \n",
       "438   Though the power grab has earned Xi comparison...     -1   438  \n",
       "376          No one has a set of principles to live by.     -1   376  \n",
       "292   The sides came to an agreement after their mee...     -1   292  "
      ]
     },
     "execution_count": 18,
     "metadata": {},
     "output_type": "execute_result"
    }
   ],
   "source": [
    "ax = glue_loader.load_dataset(\"ax\")\n",
    "ax[\"test\"].sample(frac=1).head()"
   ]
  },
  {
   "cell_type": "markdown",
   "metadata": {},
   "source": [
    "# cola\n",
    "The Corpus of Linguistic Acceptability consists of English acceptability judgments drawn from books and journal articles on linguistic theory. Each example is a sequence of words annotated with whether it is a grammatical English sentence. "
   ]
  },
  {
   "cell_type": "code",
   "execution_count": 17,
   "metadata": {},
   "outputs": [
    {
     "name": "stderr",
     "output_type": "stream",
     "text": [
      "Reusing dataset glue (/home/juunge/.cache/huggingface/datasets/glue/cola/1.0.0/dacbe3125aa31d7f70367a07a8a9e72a5a0bfeb5fc42e75c9db75b96da6053ad)\n",
      "100%|██████████| 3/3 [00:00<00:00, 976.02it/s]\n"
     ]
    },
    {
     "data": {
      "text/html": [
       "<div>\n",
       "<style scoped>\n",
       "    .dataframe tbody tr th:only-of-type {\n",
       "        vertical-align: middle;\n",
       "    }\n",
       "\n",
       "    .dataframe tbody tr th {\n",
       "        vertical-align: top;\n",
       "    }\n",
       "\n",
       "    .dataframe thead th {\n",
       "        text-align: right;\n",
       "    }\n",
       "</style>\n",
       "<table border=\"1\" class=\"dataframe\">\n",
       "  <thead>\n",
       "    <tr style=\"text-align: right;\">\n",
       "      <th></th>\n",
       "      <th>sentence</th>\n",
       "      <th>label</th>\n",
       "      <th>idx</th>\n",
       "    </tr>\n",
       "  </thead>\n",
       "  <tbody>\n",
       "    <tr>\n",
       "      <th>805</th>\n",
       "      <td>Mary reported he to have loved her.</td>\n",
       "      <td>0</td>\n",
       "      <td>805</td>\n",
       "    </tr>\n",
       "    <tr>\n",
       "      <th>933</th>\n",
       "      <td>While Rusty might leave in order to please Mag...</td>\n",
       "      <td>0</td>\n",
       "      <td>933</td>\n",
       "    </tr>\n",
       "    <tr>\n",
       "      <th>1813</th>\n",
       "      <td>This violin is tough to play sonatas on.</td>\n",
       "      <td>1</td>\n",
       "      <td>1813</td>\n",
       "    </tr>\n",
       "    <tr>\n",
       "      <th>8468</th>\n",
       "      <td>Anson appeared</td>\n",
       "      <td>1</td>\n",
       "      <td>8468</td>\n",
       "    </tr>\n",
       "    <tr>\n",
       "      <th>3751</th>\n",
       "      <td>The dog fears thunder.</td>\n",
       "      <td>1</td>\n",
       "      <td>3751</td>\n",
       "    </tr>\n",
       "  </tbody>\n",
       "</table>\n",
       "</div>"
      ],
      "text/plain": [
       "                                               sentence  label   idx\n",
       "805                 Mary reported he to have loved her.      0   805\n",
       "933   While Rusty might leave in order to please Mag...      0   933\n",
       "1813           This violin is tough to play sonatas on.      1  1813\n",
       "8468                                     Anson appeared      1  8468\n",
       "3751                             The dog fears thunder.      1  3751"
      ]
     },
     "execution_count": 17,
     "metadata": {},
     "output_type": "execute_result"
    }
   ],
   "source": [
    "cola = glue_loader.load_dataset(\"cola\")\n",
    "cola[\"train\"].sample(frac=1).head()"
   ]
  },
  {
   "cell_type": "markdown",
   "metadata": {},
   "source": [
    "# mnli\n",
    "The Multi-Genre Natural Language Inference Corpus is a crowdsourced collection of sentence pairs with textual entailment annotations. Given a premise sentence and a hypothesis sentence, the task is to predict whether the premise entails the hypothesis (entailment), contradicts the hypothesis (contradiction), or neither (neutral). The premise sentences are gathered from ten different sources, including transcribed speech, fiction, and government reports. The authors of the benchmark use the standard test set, for which they obtained private labels from the RTE authors, and evaluate on both the matched (in-domain) and mismatched (cross-domain) section. They also uses and recommend the SNLI corpus as 550k examples of auxiliary training data."
   ]
  },
  {
   "cell_type": "code",
   "execution_count": 19,
   "metadata": {},
   "outputs": [
    {
     "name": "stderr",
     "output_type": "stream",
     "text": [
      "Reusing dataset glue (/home/juunge/.cache/huggingface/datasets/glue/mnli/1.0.0/dacbe3125aa31d7f70367a07a8a9e72a5a0bfeb5fc42e75c9db75b96da6053ad)\n",
      "100%|██████████| 5/5 [00:00<00:00, 823.32it/s]\n"
     ]
    },
    {
     "data": {
      "text/html": [
       "<div>\n",
       "<style scoped>\n",
       "    .dataframe tbody tr th:only-of-type {\n",
       "        vertical-align: middle;\n",
       "    }\n",
       "\n",
       "    .dataframe tbody tr th {\n",
       "        vertical-align: top;\n",
       "    }\n",
       "\n",
       "    .dataframe thead th {\n",
       "        text-align: right;\n",
       "    }\n",
       "</style>\n",
       "<table border=\"1\" class=\"dataframe\">\n",
       "  <thead>\n",
       "    <tr style=\"text-align: right;\">\n",
       "      <th></th>\n",
       "      <th>premise</th>\n",
       "      <th>hypothesis</th>\n",
       "      <th>label</th>\n",
       "      <th>idx</th>\n",
       "    </tr>\n",
       "  </thead>\n",
       "  <tbody>\n",
       "    <tr>\n",
       "      <th>258738</th>\n",
       "      <td>Jon, said San'doro.</td>\n",
       "      <td>San'doro spoke to Jon.</td>\n",
       "      <td>1</td>\n",
       "      <td>258738</td>\n",
       "    </tr>\n",
       "    <tr>\n",
       "      <th>70421</th>\n",
       "      <td>He was accused of lacking a social psychology ...</td>\n",
       "      <td>Someone was praised for lacking something usef...</td>\n",
       "      <td>0</td>\n",
       "      <td>70421</td>\n",
       "    </tr>\n",
       "    <tr>\n",
       "      <th>272389</th>\n",
       "      <td>He could trust Kells, Drew thought.</td>\n",
       "      <td>Drew knew Kells could not be trusted.</td>\n",
       "      <td>2</td>\n",
       "      <td>272389</td>\n",
       "    </tr>\n",
       "    <tr>\n",
       "      <th>41445</th>\n",
       "      <td>Continue up the coast to Lanusei and head inla...</td>\n",
       "      <td>The mountains are right along the coast.</td>\n",
       "      <td>2</td>\n",
       "      <td>41445</td>\n",
       "    </tr>\n",
       "    <tr>\n",
       "      <th>183268</th>\n",
       "      <td>Oh! Tuppence laid down her spoon.</td>\n",
       "      <td>Oh! She put her spoon down.</td>\n",
       "      <td>0</td>\n",
       "      <td>183268</td>\n",
       "    </tr>\n",
       "  </tbody>\n",
       "</table>\n",
       "</div>"
      ],
      "text/plain": [
       "                                                  premise  \\\n",
       "258738                                Jon, said San'doro.   \n",
       "70421   He was accused of lacking a social psychology ...   \n",
       "272389                He could trust Kells, Drew thought.   \n",
       "41445   Continue up the coast to Lanusei and head inla...   \n",
       "183268                  Oh! Tuppence laid down her spoon.   \n",
       "\n",
       "                                               hypothesis  label     idx  \n",
       "258738                             San'doro spoke to Jon.      1  258738  \n",
       "70421   Someone was praised for lacking something usef...      0   70421  \n",
       "272389              Drew knew Kells could not be trusted.      2  272389  \n",
       "41445            The mountains are right along the coast.      2   41445  \n",
       "183268                        Oh! She put her spoon down.      0  183268  "
      ]
     },
     "execution_count": 19,
     "metadata": {},
     "output_type": "execute_result"
    }
   ],
   "source": [
    "mnli = glue_loader.load_dataset(\"mnli\")\n",
    "mnli[\"train\"].sample(frac=1).head()"
   ]
  },
  {
   "cell_type": "markdown",
   "metadata": {},
   "source": [
    "# mrpc\n",
    "The Microsoft Research Paraphrase Corpus (Dolan & Brockett, 2005) is a corpus of sentence pairs automatically extracted from online news sources, with human annotations for whether the sentences in the pair are semantically equivalent."
   ]
  },
  {
   "cell_type": "code",
   "execution_count": 20,
   "metadata": {},
   "outputs": [
    {
     "name": "stderr",
     "output_type": "stream",
     "text": [
      "Reusing dataset glue (/home/juunge/.cache/huggingface/datasets/glue/mrpc/1.0.0/dacbe3125aa31d7f70367a07a8a9e72a5a0bfeb5fc42e75c9db75b96da6053ad)\n",
      "100%|██████████| 3/3 [00:00<00:00, 798.56it/s]\n"
     ]
    },
    {
     "data": {
      "text/html": [
       "<div>\n",
       "<style scoped>\n",
       "    .dataframe tbody tr th:only-of-type {\n",
       "        vertical-align: middle;\n",
       "    }\n",
       "\n",
       "    .dataframe tbody tr th {\n",
       "        vertical-align: top;\n",
       "    }\n",
       "\n",
       "    .dataframe thead th {\n",
       "        text-align: right;\n",
       "    }\n",
       "</style>\n",
       "<table border=\"1\" class=\"dataframe\">\n",
       "  <thead>\n",
       "    <tr style=\"text-align: right;\">\n",
       "      <th></th>\n",
       "      <th>sentence1</th>\n",
       "      <th>sentence2</th>\n",
       "      <th>label</th>\n",
       "      <th>idx</th>\n",
       "    </tr>\n",
       "  </thead>\n",
       "  <tbody>\n",
       "    <tr>\n",
       "      <th>1736</th>\n",
       "      <td>As such , consumers want to easily enjoy this ...</td>\n",
       "      <td>The companies say their consumers want to enjo...</td>\n",
       "      <td>1</td>\n",
       "      <td>1931</td>\n",
       "    </tr>\n",
       "    <tr>\n",
       "      <th>27</th>\n",
       "      <td>Duque will return to Earth Oct. 27 with the st...</td>\n",
       "      <td>Currently living onboard the space station are...</td>\n",
       "      <td>0</td>\n",
       "      <td>30</td>\n",
       "    </tr>\n",
       "    <tr>\n",
       "      <th>300</th>\n",
       "      <td>Clearly Roman creams of any type do not normal...</td>\n",
       "      <td>Clearly Roman creams of any type , paint or co...</td>\n",
       "      <td>1</td>\n",
       "      <td>329</td>\n",
       "    </tr>\n",
       "    <tr>\n",
       "      <th>1693</th>\n",
       "      <td>The statewide unemployment rate fell to 6.4 pe...</td>\n",
       "      <td>The unemployment rate in San Joaquin County di...</td>\n",
       "      <td>0</td>\n",
       "      <td>1882</td>\n",
       "    </tr>\n",
       "    <tr>\n",
       "      <th>3053</th>\n",
       "      <td>Experts say they think better treatment , incl...</td>\n",
       "      <td>Experts say they think better treatment , incl...</td>\n",
       "      <td>1</td>\n",
       "      <td>3389</td>\n",
       "    </tr>\n",
       "  </tbody>\n",
       "</table>\n",
       "</div>"
      ],
      "text/plain": [
       "                                              sentence1  \\\n",
       "1736  As such , consumers want to easily enjoy this ...   \n",
       "27    Duque will return to Earth Oct. 27 with the st...   \n",
       "300   Clearly Roman creams of any type do not normal...   \n",
       "1693  The statewide unemployment rate fell to 6.4 pe...   \n",
       "3053  Experts say they think better treatment , incl...   \n",
       "\n",
       "                                              sentence2  label   idx  \n",
       "1736  The companies say their consumers want to enjo...      1  1931  \n",
       "27    Currently living onboard the space station are...      0    30  \n",
       "300   Clearly Roman creams of any type , paint or co...      1   329  \n",
       "1693  The unemployment rate in San Joaquin County di...      0  1882  \n",
       "3053  Experts say they think better treatment , incl...      1  3389  "
      ]
     },
     "execution_count": 20,
     "metadata": {},
     "output_type": "execute_result"
    }
   ],
   "source": [
    "mrpc = glue_loader.load_dataset(\"mrpc\")\n",
    "mrpc[\"train\"].sample(frac=1).head()"
   ]
  },
  {
   "cell_type": "markdown",
   "metadata": {},
   "source": [
    "# qnli\n",
    "The Stanford Question Answering Dataset is a question-answering dataset consisting of question-paragraph pairs, where one of the sentences in the paragraph (drawn from Wikipedia) contains the answer to the corresponding question (written by an annotator). The authors of the benchmark convert the task into sentence pair classification by forming a pair between each question and each sentence in the corresponding context, and filtering out pairs with low lexical overlap between the question and the context sentence. The task is to determine whether the context sentence contains the answer to the question. This modified version of the original task removes the requirement that the model select the exact answer, but also removes the simplifying assumptions that the answer is always present in the input and that lexical overlap is a reliable cue."
   ]
  },
  {
   "cell_type": "code",
   "execution_count": 21,
   "metadata": {},
   "outputs": [
    {
     "name": "stderr",
     "output_type": "stream",
     "text": [
      "Reusing dataset glue (/home/juunge/.cache/huggingface/datasets/glue/qnli/1.0.0/dacbe3125aa31d7f70367a07a8a9e72a5a0bfeb5fc42e75c9db75b96da6053ad)\n",
      "100%|██████████| 3/3 [00:00<00:00, 1005.11it/s]\n"
     ]
    },
    {
     "data": {
      "text/html": [
       "<div>\n",
       "<style scoped>\n",
       "    .dataframe tbody tr th:only-of-type {\n",
       "        vertical-align: middle;\n",
       "    }\n",
       "\n",
       "    .dataframe tbody tr th {\n",
       "        vertical-align: top;\n",
       "    }\n",
       "\n",
       "    .dataframe thead th {\n",
       "        text-align: right;\n",
       "    }\n",
       "</style>\n",
       "<table border=\"1\" class=\"dataframe\">\n",
       "  <thead>\n",
       "    <tr style=\"text-align: right;\">\n",
       "      <th></th>\n",
       "      <th>question</th>\n",
       "      <th>sentence</th>\n",
       "      <th>label</th>\n",
       "      <th>idx</th>\n",
       "    </tr>\n",
       "  </thead>\n",
       "  <tbody>\n",
       "    <tr>\n",
       "      <th>62166</th>\n",
       "      <td>The AirTrain has a station at what airport?</td>\n",
       "      <td>For intercity rail, New York City is served by...</td>\n",
       "      <td>1</td>\n",
       "      <td>62166</td>\n",
       "    </tr>\n",
       "    <tr>\n",
       "      <th>10137</th>\n",
       "      <td>What other ethnicities, besides German were pa...</td>\n",
       "      <td>It had a multi-ethnic and multi-lingual struct...</td>\n",
       "      <td>0</td>\n",
       "      <td>10137</td>\n",
       "    </tr>\n",
       "    <tr>\n",
       "      <th>97341</th>\n",
       "      <td>What is the first historically black university?</td>\n",
       "      <td>The Duke Energy Center for the Performing Arts...</td>\n",
       "      <td>1</td>\n",
       "      <td>97341</td>\n",
       "    </tr>\n",
       "    <tr>\n",
       "      <th>42101</th>\n",
       "      <td>Who's presence increased in Tibet?</td>\n",
       "      <td>Kolmaš writes that, as the Mongol presence in ...</td>\n",
       "      <td>1</td>\n",
       "      <td>42101</td>\n",
       "    </tr>\n",
       "    <tr>\n",
       "      <th>68643</th>\n",
       "      <td>Whitehead observes that life is deficient in w...</td>\n",
       "      <td>Whitehead makes the startling observation that...</td>\n",
       "      <td>0</td>\n",
       "      <td>68643</td>\n",
       "    </tr>\n",
       "  </tbody>\n",
       "</table>\n",
       "</div>"
      ],
      "text/plain": [
       "                                                question  \\\n",
       "62166        The AirTrain has a station at what airport?   \n",
       "10137  What other ethnicities, besides German were pa...   \n",
       "97341   What is the first historically black university?   \n",
       "42101                 Who's presence increased in Tibet?   \n",
       "68643  Whitehead observes that life is deficient in w...   \n",
       "\n",
       "                                                sentence  label    idx  \n",
       "62166  For intercity rail, New York City is served by...      1  62166  \n",
       "10137  It had a multi-ethnic and multi-lingual struct...      0  10137  \n",
       "97341  The Duke Energy Center for the Performing Arts...      1  97341  \n",
       "42101  Kolmaš writes that, as the Mongol presence in ...      1  42101  \n",
       "68643  Whitehead makes the startling observation that...      0  68643  "
      ]
     },
     "execution_count": 21,
     "metadata": {},
     "output_type": "execute_result"
    }
   ],
   "source": [
    "qnli = glue_loader.load_dataset(\"qnli\")\n",
    "qnli[\"train\"].sample(frac=1).head()"
   ]
  },
  {
   "cell_type": "markdown",
   "metadata": {},
   "source": [
    "# qqp\n",
    "The Quora Question Pairs2 dataset is a collection of question pairs from the community question-answering website Quora. The task is to determine whether a pair of questions are semantically equivalent. "
   ]
  },
  {
   "cell_type": "code",
   "execution_count": 22,
   "metadata": {},
   "outputs": [
    {
     "name": "stderr",
     "output_type": "stream",
     "text": [
      "Reusing dataset glue (/home/juunge/.cache/huggingface/datasets/glue/qqp/1.0.0/dacbe3125aa31d7f70367a07a8a9e72a5a0bfeb5fc42e75c9db75b96da6053ad)\n",
      "100%|██████████| 3/3 [00:00<00:00, 376.52it/s]\n"
     ]
    },
    {
     "data": {
      "text/html": [
       "<div>\n",
       "<style scoped>\n",
       "    .dataframe tbody tr th:only-of-type {\n",
       "        vertical-align: middle;\n",
       "    }\n",
       "\n",
       "    .dataframe tbody tr th {\n",
       "        vertical-align: top;\n",
       "    }\n",
       "\n",
       "    .dataframe thead th {\n",
       "        text-align: right;\n",
       "    }\n",
       "</style>\n",
       "<table border=\"1\" class=\"dataframe\">\n",
       "  <thead>\n",
       "    <tr style=\"text-align: right;\">\n",
       "      <th></th>\n",
       "      <th>question1</th>\n",
       "      <th>question2</th>\n",
       "      <th>label</th>\n",
       "      <th>idx</th>\n",
       "    </tr>\n",
       "  </thead>\n",
       "  <tbody>\n",
       "    <tr>\n",
       "      <th>205804</th>\n",
       "      <td>What should you say when the recruiter from a ...</td>\n",
       "      <td>Is a recruiter and an interviewer from a compa...</td>\n",
       "      <td>0</td>\n",
       "      <td>205804</td>\n",
       "    </tr>\n",
       "    <tr>\n",
       "      <th>331107</th>\n",
       "      <td>How do I prepare for CDS exam in 3 years?</td>\n",
       "      <td>How do I prepare for cds in 1 month?</td>\n",
       "      <td>0</td>\n",
       "      <td>331107</td>\n",
       "    </tr>\n",
       "    <tr>\n",
       "      <th>21455</th>\n",
       "      <td>Keith Rabois: What lessons did you learn from ...</td>\n",
       "      <td>Why is Peter Thiel a libertarian?</td>\n",
       "      <td>0</td>\n",
       "      <td>21455</td>\n",
       "    </tr>\n",
       "    <tr>\n",
       "      <th>243455</th>\n",
       "      <td>How can I start to learn chemistry?</td>\n",
       "      <td>How do you start learning chemistry by yourself?</td>\n",
       "      <td>0</td>\n",
       "      <td>243455</td>\n",
       "    </tr>\n",
       "    <tr>\n",
       "      <th>99872</th>\n",
       "      <td>What are the best tips/solutions to fight emai...</td>\n",
       "      <td>What is the best free third-party email client...</td>\n",
       "      <td>0</td>\n",
       "      <td>99872</td>\n",
       "    </tr>\n",
       "  </tbody>\n",
       "</table>\n",
       "</div>"
      ],
      "text/plain": [
       "                                                question1  \\\n",
       "205804  What should you say when the recruiter from a ...   \n",
       "331107          How do I prepare for CDS exam in 3 years?   \n",
       "21455   Keith Rabois: What lessons did you learn from ...   \n",
       "243455                How can I start to learn chemistry?   \n",
       "99872   What are the best tips/solutions to fight emai...   \n",
       "\n",
       "                                                question2  label     idx  \n",
       "205804  Is a recruiter and an interviewer from a compa...      0  205804  \n",
       "331107               How do I prepare for cds in 1 month?      0  331107  \n",
       "21455                   Why is Peter Thiel a libertarian?      0   21455  \n",
       "243455   How do you start learning chemistry by yourself?      0  243455  \n",
       "99872   What is the best free third-party email client...      0   99872  "
      ]
     },
     "execution_count": 22,
     "metadata": {},
     "output_type": "execute_result"
    }
   ],
   "source": [
    "qqp = glue_loader.load_dataset(\"qqp\")\n",
    "qqp[\"train\"].sample(frac=1).head()"
   ]
  },
  {
   "cell_type": "markdown",
   "metadata": {},
   "source": [
    "# sst2\n",
    "The Stanford Sentiment Treebank consists of sentences from movie reviews and human annotations of their sentiment. The task is to predict the sentiment of a given sentence. It uses the two-way (positive/negative) class split, with only sentence-level labels."
   ]
  },
  {
   "cell_type": "code",
   "execution_count": 23,
   "metadata": {},
   "outputs": [
    {
     "name": "stderr",
     "output_type": "stream",
     "text": [
      "Reusing dataset glue (/home/juunge/.cache/huggingface/datasets/glue/sst2/1.0.0/dacbe3125aa31d7f70367a07a8a9e72a5a0bfeb5fc42e75c9db75b96da6053ad)\n",
      "100%|██████████| 3/3 [00:00<00:00, 576.54it/s]\n"
     ]
    },
    {
     "data": {
      "text/html": [
       "<div>\n",
       "<style scoped>\n",
       "    .dataframe tbody tr th:only-of-type {\n",
       "        vertical-align: middle;\n",
       "    }\n",
       "\n",
       "    .dataframe tbody tr th {\n",
       "        vertical-align: top;\n",
       "    }\n",
       "\n",
       "    .dataframe thead th {\n",
       "        text-align: right;\n",
       "    }\n",
       "</style>\n",
       "<table border=\"1\" class=\"dataframe\">\n",
       "  <thead>\n",
       "    <tr style=\"text-align: right;\">\n",
       "      <th></th>\n",
       "      <th>sentence</th>\n",
       "      <th>label</th>\n",
       "      <th>idx</th>\n",
       "    </tr>\n",
       "  </thead>\n",
       "  <tbody>\n",
       "    <tr>\n",
       "      <th>62036</th>\n",
       "      <td>witty and</td>\n",
       "      <td>1</td>\n",
       "      <td>62036</td>\n",
       "    </tr>\n",
       "    <tr>\n",
       "      <th>43452</th>\n",
       "      <td>'s an experience in understanding a unique cul...</td>\n",
       "      <td>1</td>\n",
       "      <td>43452</td>\n",
       "    </tr>\n",
       "    <tr>\n",
       "      <th>35564</th>\n",
       "      <td>rollicking</td>\n",
       "      <td>1</td>\n",
       "      <td>35564</td>\n",
       "    </tr>\n",
       "    <tr>\n",
       "      <th>41167</th>\n",
       "      <td>where its recent predecessor miserably</td>\n",
       "      <td>0</td>\n",
       "      <td>41167</td>\n",
       "    </tr>\n",
       "    <tr>\n",
       "      <th>2977</th>\n",
       "      <td>low , very low ,</td>\n",
       "      <td>0</td>\n",
       "      <td>2977</td>\n",
       "    </tr>\n",
       "  </tbody>\n",
       "</table>\n",
       "</div>"
      ],
      "text/plain": [
       "                                                sentence  label    idx\n",
       "62036                                         witty and       1  62036\n",
       "43452  's an experience in understanding a unique cul...      1  43452\n",
       "35564                                        rollicking       1  35564\n",
       "41167            where its recent predecessor miserably       0  41167\n",
       "2977                                   low , very low ,       0   2977"
      ]
     },
     "execution_count": 23,
     "metadata": {},
     "output_type": "execute_result"
    }
   ],
   "source": [
    "sst2 = glue_loader.load_dataset(\"sst2\")\n",
    "sst2[\"train\"].sample(frac=1).head()"
   ]
  },
  {
   "cell_type": "markdown",
   "metadata": {},
   "source": [
    "# stsb \n",
    "The Semantic Textual Similarity Benchmark (Cer et al., 2017) is a collection of sentence pairs drawn from news headlines, video and image captions, and natural language inference data. Each pair is human-annotated with a similarity score from 1 to 5."
   ]
  },
  {
   "cell_type": "code",
   "execution_count": 24,
   "metadata": {},
   "outputs": [
    {
     "name": "stderr",
     "output_type": "stream",
     "text": [
      "Reusing dataset glue (/home/juunge/.cache/huggingface/datasets/glue/stsb/1.0.0/dacbe3125aa31d7f70367a07a8a9e72a5a0bfeb5fc42e75c9db75b96da6053ad)\n",
      "100%|██████████| 3/3 [00:00<00:00, 938.18it/s]\n"
     ]
    },
    {
     "data": {
      "text/html": [
       "<div>\n",
       "<style scoped>\n",
       "    .dataframe tbody tr th:only-of-type {\n",
       "        vertical-align: middle;\n",
       "    }\n",
       "\n",
       "    .dataframe tbody tr th {\n",
       "        vertical-align: top;\n",
       "    }\n",
       "\n",
       "    .dataframe thead th {\n",
       "        text-align: right;\n",
       "    }\n",
       "</style>\n",
       "<table border=\"1\" class=\"dataframe\">\n",
       "  <thead>\n",
       "    <tr style=\"text-align: right;\">\n",
       "      <th></th>\n",
       "      <th>sentence1</th>\n",
       "      <th>sentence2</th>\n",
       "      <th>label</th>\n",
       "      <th>idx</th>\n",
       "    </tr>\n",
       "  </thead>\n",
       "  <tbody>\n",
       "    <tr>\n",
       "      <th>276</th>\n",
       "      <td>A  man is dancing.</td>\n",
       "      <td>A man is riding a horse.</td>\n",
       "      <td>0.8</td>\n",
       "      <td>276</td>\n",
       "    </tr>\n",
       "    <tr>\n",
       "      <th>707</th>\n",
       "      <td>A woman is cutting a squash.</td>\n",
       "      <td>A woman is cutting big pepper.</td>\n",
       "      <td>2.2</td>\n",
       "      <td>707</td>\n",
       "    </tr>\n",
       "    <tr>\n",
       "      <th>5492</th>\n",
       "      <td>Man Who Set Himself on Fire on National Mall H...</td>\n",
       "      <td>Man Sets Himself on Fire on National Mall, Flo...</td>\n",
       "      <td>3.0</td>\n",
       "      <td>5492</td>\n",
       "    </tr>\n",
       "    <tr>\n",
       "      <th>3954</th>\n",
       "      <td>EU heaps new sanctions on Syria</td>\n",
       "      <td>EU imposes new sanctions on Syrian regime</td>\n",
       "      <td>4.4</td>\n",
       "      <td>3954</td>\n",
       "    </tr>\n",
       "    <tr>\n",
       "      <th>1043</th>\n",
       "      <td>A women laying across two men sitting on a sofa.</td>\n",
       "      <td>A man and two women smiling at the camera whil...</td>\n",
       "      <td>2.2</td>\n",
       "      <td>1043</td>\n",
       "    </tr>\n",
       "  </tbody>\n",
       "</table>\n",
       "</div>"
      ],
      "text/plain": [
       "                                              sentence1  \\\n",
       "276                                  A  man is dancing.   \n",
       "707                        A woman is cutting a squash.   \n",
       "5492  Man Who Set Himself on Fire on National Mall H...   \n",
       "3954                    EU heaps new sanctions on Syria   \n",
       "1043   A women laying across two men sitting on a sofa.   \n",
       "\n",
       "                                              sentence2  label   idx  \n",
       "276                            A man is riding a horse.    0.8   276  \n",
       "707                      A woman is cutting big pepper.    2.2   707  \n",
       "5492  Man Sets Himself on Fire on National Mall, Flo...    3.0  5492  \n",
       "3954          EU imposes new sanctions on Syrian regime    4.4  3954  \n",
       "1043  A man and two women smiling at the camera whil...    2.2  1043  "
      ]
     },
     "execution_count": 24,
     "metadata": {},
     "output_type": "execute_result"
    }
   ],
   "source": [
    "stsb = glue_loader.load_dataset(\"stsb\")\n",
    "stsb[\"train\"].sample(frac=1).head()"
   ]
  },
  {
   "cell_type": "markdown",
   "metadata": {},
   "source": [
    "# wnli\n",
    "The Winograd Schema Challenge (Levesque et al., 2011) is a reading comprehension task in which a system must read a sentence with a pronoun and select the referent of that pronoun from a list of choices. The examples are manually constructed to foil simple statistical methods: Each one is contingent on contextual information provided by a single word or phrase in the sentence. To convert the problem into sentence pair classification, the authors of the benchmark construct sentence pairs by replacing the ambiguous pronoun with each possible referent. The task is to predict if the sentence with the pronoun substituted is entailed by the original sentence. They use a small evaluation set consisting of new examples derived from fiction books that was shared privately by the authors of the original corpus. While the included training set is balanced between two classes, the test set is imbalanced between them (65% not entailment). Also, due to a data quirk, the development set is adversarial: hypotheses are sometimes shared between training and development examples, so if a model memorizes the training examples, they will predict the wrong label on corresponding development set example. As with QNLI, each example is evaluated separately, so there is not a systematic correspondence between a model's score on this task and its score on the unconverted original task. The authors of the benchmark call converted dataset WNLI (Winograd NLI).\n"
   ]
  },
  {
   "cell_type": "code",
   "execution_count": 25,
   "metadata": {},
   "outputs": [
    {
     "name": "stdout",
     "output_type": "stream",
     "text": [
      "Downloading and preparing dataset glue/wnli (download: 28.32 KiB, generated: 154.03 KiB, post-processed: Unknown size, total: 182.35 KiB) to /home/juunge/.cache/huggingface/datasets/glue/wnli/1.0.0/dacbe3125aa31d7f70367a07a8a9e72a5a0bfeb5fc42e75c9db75b96da6053ad...\n"
     ]
    },
    {
     "name": "stderr",
     "output_type": "stream",
     "text": [
      "Downloading: 100%|██████████| 29.0k/29.0k [00:00<00:00, 83.4kB/s]\n",
      "100%|██████████| 3/3 [00:00<00:00, 590.91it/s]"
     ]
    },
    {
     "name": "stdout",
     "output_type": "stream",
     "text": [
      "Dataset glue downloaded and prepared to /home/juunge/.cache/huggingface/datasets/glue/wnli/1.0.0/dacbe3125aa31d7f70367a07a8a9e72a5a0bfeb5fc42e75c9db75b96da6053ad. Subsequent calls will reuse this data.\n"
     ]
    },
    {
     "name": "stderr",
     "output_type": "stream",
     "text": [
      "\n"
     ]
    },
    {
     "data": {
      "text/html": [
       "<div>\n",
       "<style scoped>\n",
       "    .dataframe tbody tr th:only-of-type {\n",
       "        vertical-align: middle;\n",
       "    }\n",
       "\n",
       "    .dataframe tbody tr th {\n",
       "        vertical-align: top;\n",
       "    }\n",
       "\n",
       "    .dataframe thead th {\n",
       "        text-align: right;\n",
       "    }\n",
       "</style>\n",
       "<table border=\"1\" class=\"dataframe\">\n",
       "  <thead>\n",
       "    <tr style=\"text-align: right;\">\n",
       "      <th></th>\n",
       "      <th>sentence1</th>\n",
       "      <th>sentence2</th>\n",
       "      <th>label</th>\n",
       "      <th>idx</th>\n",
       "    </tr>\n",
       "  </thead>\n",
       "  <tbody>\n",
       "    <tr>\n",
       "      <th>587</th>\n",
       "      <td>The woman held the girl against her will.</td>\n",
       "      <td>The woman held the girl against the girl's will.</td>\n",
       "      <td>1</td>\n",
       "      <td>587</td>\n",
       "    </tr>\n",
       "    <tr>\n",
       "      <th>573</th>\n",
       "      <td>Jane knocked on Susan's door, but there was no...</td>\n",
       "      <td>Jane was disappointed.</td>\n",
       "      <td>1</td>\n",
       "      <td>573</td>\n",
       "    </tr>\n",
       "    <tr>\n",
       "      <th>320</th>\n",
       "      <td>Mark was close to Mr. Singer's heels. He heard...</td>\n",
       "      <td>The captain and all Mark's crew had best stay ...</td>\n",
       "      <td>0</td>\n",
       "      <td>320</td>\n",
       "    </tr>\n",
       "    <tr>\n",
       "      <th>254</th>\n",
       "      <td>Jane knocked on Susan's door, but there was no...</td>\n",
       "      <td>Jane was out.</td>\n",
       "      <td>0</td>\n",
       "      <td>254</td>\n",
       "    </tr>\n",
       "    <tr>\n",
       "      <th>117</th>\n",
       "      <td>Sara borrowed the book from the library becaus...</td>\n",
       "      <td>She reads the book when she gets home from work.</td>\n",
       "      <td>1</td>\n",
       "      <td>117</td>\n",
       "    </tr>\n",
       "  </tbody>\n",
       "</table>\n",
       "</div>"
      ],
      "text/plain": [
       "                                             sentence1  \\\n",
       "587          The woman held the girl against her will.   \n",
       "573  Jane knocked on Susan's door, but there was no...   \n",
       "320  Mark was close to Mr. Singer's heels. He heard...   \n",
       "254  Jane knocked on Susan's door, but there was no...   \n",
       "117  Sara borrowed the book from the library becaus...   \n",
       "\n",
       "                                             sentence2  label  idx  \n",
       "587   The woman held the girl against the girl's will.      1  587  \n",
       "573                             Jane was disappointed.      1  573  \n",
       "320  The captain and all Mark's crew had best stay ...      0  320  \n",
       "254                                      Jane was out.      0  254  \n",
       "117   She reads the book when she gets home from work.      1  117  "
      ]
     },
     "execution_count": 25,
     "metadata": {},
     "output_type": "execute_result"
    }
   ],
   "source": [
    "wnli = glue_loader.load_dataset(\"wnli\")\n",
    "wnli[\"train\"].sample(frac=1).head()"
   ]
  }
 ],
 "metadata": {
  "interpreter": {
   "hash": "31f2aee4e71d21fbe5cf8b01ff0e069b9275f58929596ceb00d14d90e3e16cd6"
  },
  "kernelspec": {
   "display_name": "Python 3.8.10 64-bit",
   "language": "python",
   "name": "python3"
  },
  "language_info": {
   "codemirror_mode": {
    "name": "ipython",
    "version": 3
   },
   "file_extension": ".py",
   "mimetype": "text/x-python",
   "name": "python",
   "nbconvert_exporter": "python",
   "pygments_lexer": "ipython3",
   "version": "3.8.10"
  },
  "orig_nbformat": 4
 },
 "nbformat": 4,
 "nbformat_minor": 2
}
